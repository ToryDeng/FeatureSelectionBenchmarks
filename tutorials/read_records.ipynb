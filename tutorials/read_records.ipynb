{
 "cells": [
  {
   "cell_type": "code",
   "execution_count": 1,
   "id": "4d4e2599-6ed9-4dc6-b63d-67ce42b68b50",
   "metadata": {},
   "outputs": [],
   "source": [
    "import pandas as pd"
   ]
  },
  {
   "cell_type": "code",
   "execution_count": 2,
   "id": "2a44a6b1-e37d-44ed-8f32-443a2e71d280",
   "metadata": {},
   "outputs": [],
   "source": [
    "record = pd.read_excel(\"2023-02 14_54_32 scrna.xlsx\", sheet_name=None, index_col=[0,1,2], header=[0,1])"
   ]
  },
  {
   "cell_type": "code",
   "execution_count": 3,
   "id": "cf271805-9220-4a14-9f44-b1064593db16",
   "metadata": {},
   "outputs": [
    {
     "data": {
      "text/html": [
       "<div>\n",
       "<style scoped>\n",
       "    .dataframe tbody tr th:only-of-type {\n",
       "        vertical-align: middle;\n",
       "    }\n",
       "\n",
       "    .dataframe tbody tr th {\n",
       "        vertical-align: top;\n",
       "    }\n",
       "\n",
       "    .dataframe thead tr th {\n",
       "        text-align: left;\n",
       "    }\n",
       "\n",
       "    .dataframe thead tr:last-of-type th {\n",
       "        text-align: right;\n",
       "    }\n",
       "</style>\n",
       "<table border=\"1\" class=\"dataframe\">\n",
       "  <thead>\n",
       "    <tr>\n",
       "      <th></th>\n",
       "      <th></th>\n",
       "      <th>fs_method</th>\n",
       "      <th colspan=\"2\" halign=\"left\">seurat_v3</th>\n",
       "      <th>random_select</th>\n",
       "    </tr>\n",
       "    <tr>\n",
       "      <th></th>\n",
       "      <th></th>\n",
       "      <th>n_genes</th>\n",
       "      <th>1000</th>\n",
       "      <th>2000</th>\n",
       "      <th>500</th>\n",
       "    </tr>\n",
       "    <tr>\n",
       "      <th>dataset</th>\n",
       "      <th>clustering_method</th>\n",
       "      <th>run</th>\n",
       "      <th></th>\n",
       "      <th></th>\n",
       "      <th></th>\n",
       "    </tr>\n",
       "  </thead>\n",
       "  <tbody>\n",
       "    <tr>\n",
       "      <th rowspan=\"3\" valign=\"top\">PBMC3k</th>\n",
       "      <th rowspan=\"2\" valign=\"top\">KMeans</th>\n",
       "      <th>0</th>\n",
       "      <td>0.760368</td>\n",
       "      <td>0.598463</td>\n",
       "      <td>0.291028</td>\n",
       "    </tr>\n",
       "    <tr>\n",
       "      <th>1</th>\n",
       "      <td>0.845754</td>\n",
       "      <td>0.598547</td>\n",
       "      <td>0.293021</td>\n",
       "    </tr>\n",
       "    <tr>\n",
       "      <th>random_clustering</th>\n",
       "      <th>0</th>\n",
       "      <td>0.000263</td>\n",
       "      <td>0.000263</td>\n",
       "      <td>0.000263</td>\n",
       "    </tr>\n",
       "  </tbody>\n",
       "</table>\n",
       "</div>"
      ],
      "text/plain": [
       "fs_method                     seurat_v3           random_select\n",
       "n_genes                            1000      2000          500 \n",
       "dataset clustering_method run                                  \n",
       "PBMC3k  KMeans            0    0.760368  0.598463      0.291028\n",
       "                          1    0.845754  0.598547      0.293021\n",
       "        random_clustering 0    0.000263  0.000263      0.000263"
      ]
     },
     "execution_count": 3,
     "metadata": {},
     "output_type": "execute_result"
    }
   ],
   "source": [
    "record['ARI']"
   ]
  },
  {
   "cell_type": "code",
   "execution_count": 4,
   "id": "dc16ad98-5b68-4da1-a9ca-d842f6d199b0",
   "metadata": {},
   "outputs": [
    {
     "data": {
      "text/html": [
       "<div>\n",
       "<style scoped>\n",
       "    .dataframe tbody tr th:only-of-type {\n",
       "        vertical-align: middle;\n",
       "    }\n",
       "\n",
       "    .dataframe tbody tr th {\n",
       "        vertical-align: top;\n",
       "    }\n",
       "\n",
       "    .dataframe thead tr th {\n",
       "        text-align: left;\n",
       "    }\n",
       "\n",
       "    .dataframe thead tr:last-of-type th {\n",
       "        text-align: right;\n",
       "    }\n",
       "</style>\n",
       "<table border=\"1\" class=\"dataframe\">\n",
       "  <thead>\n",
       "    <tr>\n",
       "      <th></th>\n",
       "      <th></th>\n",
       "      <th>fs_method</th>\n",
       "      <th colspan=\"2\" halign=\"left\">seurat_v3</th>\n",
       "      <th>random_select</th>\n",
       "    </tr>\n",
       "    <tr>\n",
       "      <th></th>\n",
       "      <th></th>\n",
       "      <th>n_genes</th>\n",
       "      <th>1000</th>\n",
       "      <th>2000</th>\n",
       "      <th>500</th>\n",
       "    </tr>\n",
       "    <tr>\n",
       "      <th>dataset</th>\n",
       "      <th>clustering_method</th>\n",
       "      <th>run</th>\n",
       "      <th></th>\n",
       "      <th></th>\n",
       "      <th></th>\n",
       "    </tr>\n",
       "  </thead>\n",
       "  <tbody>\n",
       "    <tr>\n",
       "      <th rowspan=\"3\" valign=\"top\">PBMC3k</th>\n",
       "      <th rowspan=\"2\" valign=\"top\">KMeans</th>\n",
       "      <th>0</th>\n",
       "      <td>0.769744</td>\n",
       "      <td>0.751971</td>\n",
       "      <td>0.464386</td>\n",
       "    </tr>\n",
       "    <tr>\n",
       "      <th>1</th>\n",
       "      <td>0.820645</td>\n",
       "      <td>0.751988</td>\n",
       "      <td>0.461544</td>\n",
       "    </tr>\n",
       "    <tr>\n",
       "      <th>random_clustering</th>\n",
       "      <th>0</th>\n",
       "      <td>0.002664</td>\n",
       "      <td>0.002664</td>\n",
       "      <td>0.002664</td>\n",
       "    </tr>\n",
       "  </tbody>\n",
       "</table>\n",
       "</div>"
      ],
      "text/plain": [
       "fs_method                     seurat_v3           random_select\n",
       "n_genes                            1000      2000          500 \n",
       "dataset clustering_method run                                  \n",
       "PBMC3k  KMeans            0    0.769744  0.751971      0.464386\n",
       "                          1    0.820645  0.751988      0.461544\n",
       "        random_clustering 0    0.002664  0.002664      0.002664"
      ]
     },
     "execution_count": 4,
     "metadata": {},
     "output_type": "execute_result"
    }
   ],
   "source": [
    "record['NMI']"
   ]
  }
 ],
 "metadata": {
  "kernelspec": {
   "display_name": "bioinfo",
   "language": "python",
   "name": "bioinfo"
  },
  "language_info": {
   "codemirror_mode": {
    "name": "ipython",
    "version": 3
   },
   "file_extension": ".py",
   "mimetype": "text/x-python",
   "name": "python",
   "nbconvert_exporter": "python",
   "pygments_lexer": "ipython3",
   "version": "3.9.15"
  }
 },
 "nbformat": 4,
 "nbformat_minor": 5
}
